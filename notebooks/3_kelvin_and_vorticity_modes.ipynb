{
 "cells": [
  {
   "cell_type": "code",
   "execution_count": 1,
   "metadata": {},
   "outputs": [],
   "source": [
    "%load_ext autoreload\n",
    "%autoreload 2"
   ]
  },
  {
   "cell_type": "code",
   "execution_count": 2,
   "metadata": {},
   "outputs": [],
   "source": [
    "import numpy as np\n",
    "import matplotlib.pyplot as plt\n",
    "import xarray as xr"
   ]
  },
  {
   "cell_type": "code",
   "execution_count": 3,
   "metadata": {},
   "outputs": [],
   "source": [
    "import channelparams\n",
    "from shooting import *\n",
    "from theory import *\n",
    "from utils import *\n",
    "\n",
    "fbc = channelparams.fbc.copy()\n",
    "r = fbc['rsill']"
   ]
  },
  {
   "cell_type": "code",
   "execution_count": 4,
   "metadata": {},
   "outputs": [],
   "source": [
    "ds = xr.open_dataset(\"../data/critical_1d_log.nc\")"
   ]
  },
  {
   "cell_type": "code",
   "execution_count": 31,
   "metadata": {},
   "outputs": [],
   "source": [
    "tol = 0.005\n",
    "ds['critical'] = ds['match'] < tol\n",
    "ds['critical'].attrs = {'tolerance': tol}\n",
    "\n",
    "βcrit = ds['β'].where(ds['critical'] & (ds['mode']==5.)).mean(skipna=True).values"
   ]
  },
  {
   "cell_type": "code",
   "execution_count": 141,
   "metadata": {},
   "outputs": [
    {
     "data": {
      "image/png": "[encoded data removed]",
      "text/plain": [
       "<Figure size 504x288 with 1 Axes>"
      ]
     },
     "metadata": {
      "needs_background": "light"
     },
     "output_type": "display_data"
    }
   ],
   "source": [
    "plt.figure(figsize=(7,4))\n",
    "plt.fill_betweenx([-1, 6], [0.1, 0.1], [βcrit, βcrit], color=\"C1\", alpha=0.2)\n",
    "ds['mode'].where(ds['critical']).plot(marker=\"s\", markersize=5)\n",
    "plt.xscale(\"log\")\n",
    "plt.grid(True, alpha=0.5, which=\"major\")\n",
    "plt.grid(True, alpha=0.3, which=\"minor\")\n",
    "α = ds.attrs['α']\n",
    "γ = ds.attrs['γ']\n",
    "plt.xlabel(r\"$\\beta$ (interface slope parameter)\", fontsize=13)\n",
    "plt.ylabel(r\"$|m|$ (mode number)\", fontsize=13)\n",
    "plt.title(fr\"Controlled solutions with $\\alpha={α}$, $\\gamma={γ}$\", fontsize=15)\n",
    "plt.xlim(0.1, 2.)\n",
    "plt.ylim(-0.25, 5.25)\n",
    "plt.annotate(text=\"flow reverses\", xy=(0.1075, 0.15), fontsize=14)\n",
    "plt.savefig(\"../figures/control_regime_1d.png\", bbox_inches=\"tight\", dpi=150)"
   ]
  },
  {
   "cell_type": "code",
   "execution_count": 122,
   "metadata": {},
   "outputs": [],
   "source": [
    "βmodes = {}\n",
    "argmins = {}\n",
    "for m in range(6):\n",
    "    βmodes[f\"{m}\"] = ds['β'].isel(β=ds['match'].where(ds['critical'] & (ds['mode']==m) & (ds['β'] > βcrit)).argmin(skipna=True)).values\n",
    "    argmins[f\"{m}\"] = ds['match'].where(ds['critical'] & (ds['mode']==m) & (ds['β'] > βcrit)).argmin(skipna=True).values\n",
    "for m in range(1,6):\n",
    "    βmodes[f\"-{m}\"] = ds['β'].isel(β=ds['match'].where(ds['critical'] & (ds['mode']==m) & (ds['β'] < βcrit)).argmin(skipna=True)).values\n",
    "    argmins[f\"-{m}\"] = ds['match'].where(ds['critical'] & (ds['mode']==m) & (ds['β'] < βcrit)).argmin(skipna=True).values"
   ]
  },
  {
   "cell_type": "code",
   "execution_count": 123,
   "metadata": {},
   "outputs": [
    {
     "data": {
      "text/plain": [
       "{'0': array(1.89967249),\n",
       " '1': array(0.42922234),\n",
       " '2': array(0.28718888),\n",
       " '3': array(0.25456726),\n",
       " '4': array(0.24433307),\n",
       " '5': array(0.23739416),\n",
       " '-1': array(0.10877848),\n",
       " '-2': array(0.17986515),\n",
       " '-3': array(0.2151127),\n",
       " '-4': array(0.22996634),\n",
       " '-5': array(0.23553271)}"
      ]
     },
     "execution_count": 123,
     "metadata": {},
     "output_type": "execute_result"
    }
   ],
   "source": [
    "βmodes"
   ]
  },
  {
   "cell_type": "code",
   "execution_count": 127,
   "metadata": {},
   "outputs": [
    {
     "data": {
      "text/plain": [
       "{'0': array(29484609),\n",
       " '1': array(14588802),\n",
       " '2': array(10564728),\n",
       " '3': array(9357260),\n",
       " '4': array(8946348),\n",
       " '5': array(8657833),\n",
       " '-1': array(842632),\n",
       " '-2': array(5878735),\n",
       " '-3': array(7670831),\n",
       " '-4': array(8339491),\n",
       " '-5': array(8579000)}"
      ]
     },
     "execution_count": 127,
     "metadata": {},
     "output_type": "execute_result"
    }
   ],
   "source": [
    "argmins"
   ]
  },
  {
   "cell_type": "code",
   "execution_count": 119,
   "metadata": {},
   "outputs": [
    {
     "name": "stdout",
     "output_type": "stream",
     "text": [
      "1.721034920576179\n",
      "0.20121752230535334\n",
      "0.05363825221023161\n",
      "0.01972291636281212\n",
      "0.00908131640087212\n",
      "0.0018657571265355\n",
      "-0.13193903166969\n",
      "-0.057969919016737426\n",
      "-0.021306331098050996\n",
      "-0.005858574449703419\n",
      "-6.996564944036776e-05\n"
     ]
    },
    {
     "data": {
      "text/plain": [
       "<Figure size 1440x504 with 0 Axes>"
      ]
     },
     "metadata": {},
     "output_type": "display_data"
    },
    {
     "data": {
      "text/plain": [
       "<Figure size 1152x576 with 0 Axes>"
      ]
     },
     "metadata": {},
     "output_type": "display_data"
    }
   ],
   "source": [
    "fig1 = plt.figure(num=1, figsize=(20,7))\n",
    "fig2 = plt.figure(num=2, figsize=(16,8))\n",
    "\n",
    "α = ds.attrs['α']\n",
    "γ = ds.attrs['γ']\n",
    "\n",
    "nx = 400\n",
    "for i, (m, β) in enumerate(βmodes.items(), start=1):\n",
    "    outputs = shoot_perturbations(α, β, γ, r, nx)\n",
    "    x = outputs['x'][:outputs['zp'].size]\n",
    "\n",
    "    h = x**2/r\n",
    "    d = α*x**2 + β*x + γ\n",
    "    η = d+h\n",
    "    η[d<0.] = np.nan\n",
    "    d[d<0.] = np.nan\n",
    "\n",
    "    v = (2.*(α + 1/r)*x + β)\n",
    "    print(np.min(v))\n",
    "    \n",
    "    xwide = np.linspace(-np.max(np.abs(x))*1.135, np.max(np.abs(x))*1.135, nx)\n",
    "    hwide = xwide**2/r\n",
    "\n",
    "    ii=i + (i>=6);\n",
    "    \n",
    "    ####\n",
    "    plt.figure(num=1)\n",
    "    plt.subplot(2,5,ii)\n",
    "    plt.plot(xwide, hwide, color=\"grey\")\n",
    "    plt.plot(x, η, \"C0\")\n",
    "    plt.grid(True, alpha=0.3)\n",
    "    ηp = np.copy(η+0.5*outputs['zp']/np.max(np.abs(outputs['zp'])))\n",
    "    ηp[ηp < h] = np.nan\n",
    "    plt.plot(x, ηp, \"C1\")\n",
    "    match = outputs[\"match\"]\n",
    "    if i==1:\n",
    "        plt.title(f\"kelvin wave mode {m}\")\n",
    "        plt.plot([],[],\"C0\", label=\"hydraulically controlled\\nbasic state\")\n",
    "        plt.plot([],[],\"C1\", label=\"stationary perturbation\")\n",
    "        plt.legend(loc=\"upper left\", fontsize=10)\n",
    "    else:\n",
    "        plt.title(f\"vortical mode {m}\")\n",
    "    plt.xlim(np.min(xwide), np.max(xwide))\n",
    "    \n",
    "    xt, xtl = plt.xticks()\n",
    "    if (i==1) | (i>=6):\n",
    "        plt.xlabel(r\"$x$\")\n",
    "    else:\n",
    "        plt.xticks(xt, [\"\" for l in xtl])\n",
    "    if i>1:\n",
    "        plt.xlim(-2.375, 2.375)\n",
    "        \n",
    "    if (i==1) | (i==6):\n",
    "        plt.ylabel(r\"$z$\")\n",
    "    else:\n",
    "        plt.ylabel(\"\")\n",
    "    \n",
    "    ####\n",
    "    plt.figure(num=2)\n",
    "    plt.subplot(2,5,ii)\n",
    "    plt.grid(True, alpha=0.3)\n",
    "    plt.plot(x, x*0.,'k--',alpha=0.5)\n",
    "    plt.plot(x, outputs['zp']/np.max(np.abs(outputs['zp'])), \"C1-\", linewidth=2.5)\n",
    "    if i==1:\n",
    "        plt.title(f\"kelvin wave mode {m}\")\n",
    "    else:\n",
    "        plt.title(f\"vortical mode {m}\")\n",
    "    plt.xlim(np.min(x), np.max(x))\n",
    "    plt.ylim(-1.1, 1.1)\n",
    "    \n",
    "    yt, ytl = plt.yticks()\n",
    "    if (i==1) | (i==6):\n",
    "        plt.ylabel(r\"$z'$\")\n",
    "    else:\n",
    "        plt.ylabel(\"\")\n",
    "        plt.yticks(yt, [\"\" for l in ytl])\n",
    "    \n",
    "    xt, xtl = plt.xticks()\n",
    "    if (i==1) | (i>=6):\n",
    "        plt.xlabel(r\"$x$\")\n",
    "    else:\n",
    "        plt.xticks(xt, [\"\" for l in xtl])\n",
    "    plt.xlim(np.min(x)-0.05, np.max(x))\n",
    "    plt.ylim(-1.1, 1.1)\n",
    "\n",
    "fig1.tight_layout()\n",
    "plt.savefig(\"../figures/stationary_waves.png\", dpi=150.,bbox_inches=\"tight\")\n",
    "fig2.tight_layout(w_pad=0.01)\n",
    "plt.savefig(\"../figures/stationary_wave_modal_structure.png\", dpi=150.,bbox_inches=\"tight\")"
   ]
  }
 ],
 "metadata": {
  "kernelspec": {
   "display_name": "Python 3 (ipykernel)",
   "language": "python",
   "name": "python3"
  },
  "language_info": {
   "codemirror_mode": {
    "name": "ipython",
    "version": 3
   },
   "file_extension": ".py",
   "mimetype": "text/x-python",
   "name": "python",
   "nbconvert_exporter": "python",
   "pygments_lexer": "ipython3",
   "version": "3.10.2"
  }
 },
 "nbformat": 4,
 "nbformat_minor": 4
}
