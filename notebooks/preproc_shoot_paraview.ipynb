{
 "cells": [
  {
   "cell_type": "code",
   "execution_count": 26,
   "metadata": {},
   "outputs": [],
   "source": [
    "import numpy as np\n",
    "import xarray as xr\n",
    "import dask.array as da\n",
    "import matplotlib\n",
    "import matplotlib.pyplot as plt\n",
    "from mpl_toolkits.mplot3d import Axes3D"
   ]
  },
  {
   "cell_type": "code",
   "execution_count": 29,
   "metadata": {},
   "outputs": [],
   "source": [
    "suffix = \"\"\n",
    "nmodes = 8\n",
    "tol = 0.75"
   ]
  },
  {
   "cell_type": "code",
   "execution_count": 31,
   "metadata": {},
   "outputs": [
    {
     "name": "stdout",
     "output_type": "stream",
     "text": [
      "0, 1, 2, 3, 4, 5, 6, 7, "
     ]
    }
   ],
   "source": [
    "ds = xr.open_dataset(f\"../data/critical_3d{suffix}.nc\")\n",
    "\n",
    "modes = np.int64(np.unique(ds['mode'].values))[0:nmodes]\n",
    "mode_list = []\n",
    "\n",
    "for mode in modes:\n",
    "    print(mode, end=\", \")\n",
    "    mode_list.append(ds['match'].where((ds['mode'] == mode) & (ds['match'] < tol) & (ds['match'] >=0. )))\n",
    "    \n",
    "modal = xr.concat(mode_list, dim='mode')\n",
    "modal = modal.assign_coords({'mode': modes})\n",
    "modal[:,:,:,0] = np.sqrt(2.);\n",
    "\n",
    "ds = xr.Dataset()\n",
    "ds[\"γcrit\"] = modal[\"γ\"][modal.argmin(dim='γ', skipna=True)]\n",
    "ds[\"γcrit\"] = ds[\"γcrit\"].where(ds[\"γcrit\"] != modal['γ'].isel(γ=0))\n",
    "ds.to_netcdf(f\"../data/processed/critical_3d{suffix}.nc\")"
   ]
  }
 ],
 "metadata": {
  "kernelspec": {
   "display_name": "Python 3 (ipykernel)",
   "language": "python",
   "name": "python3"
  },
  "language_info": {
   "codemirror_mode": {
    "name": "ipython",
    "version": 3
   },
   "file_extension": ".py",
   "mimetype": "text/x-python",
   "name": "python",
   "nbconvert_exporter": "python",
   "pygments_lexer": "ipython3",
   "version": "3.10.0"
  }
 },
 "nbformat": 4,
 "nbformat_minor": 4
}
