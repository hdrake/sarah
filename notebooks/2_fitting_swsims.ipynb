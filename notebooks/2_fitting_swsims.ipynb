{
 "cells": [
  {
   "cell_type": "code",
   "execution_count": 73,
   "metadata": {},
   "outputs": [
    {
     "name": "stdout",
     "output_type": "stream",
     "text": [
      "The autoreload extension is already loaded. To reload it, use:\n",
      "  %reload_ext autoreload\n"
     ]
    }
   ],
   "source": [
    "%load_ext autoreload\n",
    "%autoreload 2"
   ]
  },
  {
   "cell_type": "code",
   "execution_count": 74,
   "metadata": {},
   "outputs": [],
   "source": [
    "import numpy as np\n",
    "import matplotlib.pyplot as plt\n",
    "import matplotlib.ticker as ticker\n",
    "%matplotlib inline"
   ]
  },
  {
   "cell_type": "code",
   "execution_count": 75,
   "metadata": {},
   "outputs": [],
   "source": [
    "import channelparams\n",
    "from shooting import *\n",
    "from theory import *\n",
    "from utils import *"
   ]
  },
  {
   "cell_type": "code",
   "execution_count": 76,
   "metadata": {},
   "outputs": [],
   "source": [
    "fbc = channelparams.fbc.copy()\n",
    "r = fbc['rsill']"
   ]
  },
  {
   "cell_type": "code",
   "execution_count": 77,
   "metadata": {},
   "outputs": [],
   "source": [
    "def shoot_2d(α, r, nx=50, nβ=100, nγ=100):\n",
    "    βs = np.logspace(-0.75, np.log10(3), num=nβ) #np.linspace(1e-3, 1., nβ)\n",
    "    γs = np.logspace(-1.5, np.log10(3**2), num=nγ) #np.linspace(1e-3, 1., nγ)\n",
    "    \n",
    "    match = np.zeros((nγ, nβ))\n",
    "    Q = np.zeros((nγ, nβ))\n",
    "    for jj, β in enumerate(βs):\n",
    "        for kk, γ in enumerate(γs):\n",
    "            outputs = shoot_perturbations(α, β, γ, r, nx)\n",
    "            match[kk,jj] = outputs['match']\n",
    "            Q[kk,jj] = outputs['Q']\n",
    "            \n",
    "            \n",
    "    outputs = {\n",
    "        \"βs\": βs,\n",
    "        \"γs\": γs,\n",
    "        \"match\": match,\n",
    "        \"Q\": Q,\n",
    "    }\n",
    "    return outputs"
   ]
  },
  {
   "cell_type": "code",
   "execution_count": 78,
   "metadata": {},
   "outputs": [],
   "source": [
    "def plot_interface(ax, α, β, γ, r, nx = 200):\n",
    "    xL = (-β+np.sqrt(β**2 - 4*α*γ))/(2*α)\n",
    "    xR = (-β-np.sqrt(β**2 - 4*α*γ))/(2*α)\n",
    "    w = xR-xL\n",
    "\n",
    "    xm = np.maximum(np.abs(xL), np.abs(xR)) + w/10\n",
    "    dx = 2*xm/nx\n",
    "\n",
    "    x = np.arange(-xm, xm+dx, dx)\n",
    "\n",
    "    h = x**2/r\n",
    "    d = α*x**2 + β*x + γ\n",
    "    η = d+h\n",
    "    η[d<0.] = np.nan\n",
    "    d[d<0.] = np.nan\n",
    "\n",
    "    z = np.linspace(0., np.nanmax(η), 100)[np.newaxis, :]\n",
    "    v = (2.*(α + 1/r)*x + β)[:, np.newaxis]\n",
    "\n",
    "    xx = np.tile(x[:, np.newaxis], (1, z.size))\n",
    "    zz = np.tile(z, (x.size, 1))\n",
    "    vv = np.tile(v, (1, z.size))\n",
    "    vv[np.logical_not(np.logical_and(zz > h[:, np.newaxis], zz < η[:, np.newaxis]))] = np.nan\n",
    "    ax.pcolor(xx, zz, vv, cmap=\"RdBu_r\", vmin=-np.nanmax(np.abs(v)), vmax=np.nanmax(np.abs(v)))\n",
    "\n",
    "    ax.plot(x, h, color=\"Grey\", lw=2)\n",
    "    ax.plot(x, η, \"k-\", lw=2)\n",
    "\n",
    "    ax.set_ylim(-np.max(h)/30, np.max(h))\n",
    "    return"
   ]
  },
  {
   "cell_type": "markdown",
   "metadata": {},
   "source": [
    "### Load ZPV channel simulation"
   ]
  },
  {
   "cell_type": "code",
   "execution_count": 86,
   "metadata": {},
   "outputs": [],
   "source": [
    "path = \"../hydraulic_model/runs/zero_pv_ic/\"\n",
    "filename = path+\"run_short.dat\"\n",
    "channel = load_channel(filename)"
   ]
  },
  {
   "cell_type": "code",
   "execution_count": 87,
   "metadata": {},
   "outputs": [],
   "source": [
    "α_zpv = -0.5*(1.+2./r)"
   ]
  },
  {
   "cell_type": "markdown",
   "metadata": {},
   "source": [
    "### Fit parameters to interface"
   ]
  },
  {
   "cell_type": "code",
   "execution_count": 41,
   "metadata": {},
   "outputs": [],
   "source": [
    "vpv_fits = {\n",
    "    \"α\": np.zeros((channel.my)),\n",
    "    \"β\": np.zeros((channel.my)),\n",
    "    \"γ\": np.zeros((channel.my))\n",
    "}\n",
    "\n",
    "zpv_fits = {\n",
    "    \"β\": np.zeros((channel.my)),\n",
    "    \"γ\": np.zeros((channel.my))\n",
    "}"
   ]
  },
  {
   "cell_type": "code",
   "execution_count": 89,
   "metadata": {},
   "outputs": [],
   "source": [
    "t = -1\n",
    "for i in range(channel.my):\n",
    "    idx = ~np.isnan(channel.d[t,:,i])\n",
    "    vpv_fits[\"α\"][i], vpv_fits[\"β\"][i], vpv_fits[\"γ\"][i] = np.polyfit(channel.x[0,:][idx], channel.d[t,:,i][idx], 2)\n",
    "    zpv_fits[\"β\"][i], zpv_fits[\"γ\"][i] = np.polyfit(\n",
    "        channel.x[0,:][idx],\n",
    "        channel.d[t,:,i][idx] - α_zpv*(channel.x[0,:][idx]**2),\n",
    "        1\n",
    "    )"
   ]
  },
  {
   "cell_type": "code",
   "execution_count": 101,
   "metadata": {},
   "outputs": [
    {
     "data": {
      "text/plain": [
       "(-1.2, 1.2)"
      ]
     },
     "execution_count": 101,
     "metadata": {},
     "output_type": "execute_result"
    },
    {
     "data": {
      "image/png": "[encoded data removed]",
      "text/plain": [
       "<Figure size 432x288 with 1 Axes>"
      ]
     },
     "metadata": {
      "needs_background": "light"
     },
     "output_type": "display_data"
    }
   ],
   "source": [
    "i = 1200\n",
    "idx = ~np.isnan(channel.d[t,:,i])\n",
    "x = channel.x[0,:][idx]\n",
    "\n",
    "plt.plot(x, α_zpv*x**2 + x*zpv_fits[\"β\"][i] + zpv_fits[\"γ\"][i]+channel.h[:,i][idx])\n",
    "plt.plot(channel.x[0,:], channel.d[t,:,i]+channel.h[:,i])\n",
    "plt.plot(channel.x[0,:][idx], channel.h[:,i][idx])\n",
    "plt.xlim(-1.2,1.2)"
   ]
  },
  {
   "cell_type": "code",
   "execution_count": 130,
   "metadata": {},
   "outputs": [
    {
     "data": {
      "text/plain": [
       "(0.2, 2.0)"
      ]
     },
     "execution_count": 130,
     "metadata": {},
     "output_type": "execute_result"
    },
    {
     "data": {
      "image/png": "[encoded data removed]",
      "text/plain": [
       "<Figure size 432x288 with 2 Axes>"
      ]
     },
     "metadata": {
      "needs_background": "light"
     },
     "output_type": "display_data"
    }
   ],
   "source": [
    "plt.scatter(zpv_fits[\"β\"], zpv_fits[\"γ\"], 30., channel.y[:, 0]-channel.y[channel.my//2, 0], marker=\".\", cmap=\"RdBu\", vmin=-20, vmax=20)\n",
    "plt.colorbar()\n",
    "plt.plot(zpv_fits[\"β\"][1000], zpv_fits[\"γ\"][1000], \"C3o\")\n",
    "plt.xlabel(\"β\")\n",
    "plt.ylabel(\"γ\")\n",
    "plt.xscale(\"log\")\n",
    "plt.yscale(\"log\")\n",
    "βs = np.arange(0., 2., 0.01)\n",
    "plt.plot(βs, γ_zpv(βs, r))\n",
    "plt.ylim(0.2, 2)\n",
    "plt.xlim(0.2, 2.)"
   ]
  },
  {
   "cell_type": "code",
   "execution_count": 48,
   "metadata": {},
   "outputs": [
    {
     "ename": "IndexError",
     "evalue": "index 1999 is out of bounds for axis 0 with size 500",
     "output_type": "error",
     "traceback": [
      "\u001b[0;31m---------------------------------------------------------------------------\u001b[0m",
      "\u001b[0;31mIndexError\u001b[0m                                Traceback (most recent call last)",
      "\u001b[0;32m<ipython-input-48-9a9e948965ae>\u001b[0m in \u001b[0;36m<module>\u001b[0;34m\u001b[0m\n\u001b[0;32m----> 1\u001b[0;31m \u001b[0mnp\u001b[0m\u001b[0;34m.\u001b[0m\u001b[0mpolyfit\u001b[0m\u001b[0;34m(\u001b[0m\u001b[0mchannel\u001b[0m\u001b[0;34m.\u001b[0m\u001b[0my\u001b[0m\u001b[0;34m[\u001b[0m\u001b[0;36m0\u001b[0m\u001b[0;34m,\u001b[0m\u001b[0;34m:\u001b[0m\u001b[0;34m]\u001b[0m\u001b[0;34m,\u001b[0m \u001b[0mchannel\u001b[0m\u001b[0;34m.\u001b[0m\u001b[0md\u001b[0m\u001b[0;34m[\u001b[0m\u001b[0mi\u001b[0m\u001b[0;34m,\u001b[0m\u001b[0;34m:\u001b[0m\u001b[0;34m]\u001b[0m\u001b[0;34m,\u001b[0m \u001b[0;36m2\u001b[0m\u001b[0;34m)\u001b[0m\u001b[0;34m\u001b[0m\u001b[0;34m\u001b[0m\u001b[0m\n\u001b[0m",
      "\u001b[0;31mIndexError\u001b[0m: index 1999 is out of bounds for axis 0 with size 500"
     ]
    }
   ],
   "source": [
    "np.polyfit(channel.y[0,:], channel.d[i,:], 2)"
   ]
  },
  {
   "cell_type": "code",
   "execution_count": 24,
   "metadata": {},
   "outputs": [
    {
     "data": {
      "text/plain": [
       "[<matplotlib.lines.Line2D at 0x2aac4b345700>]"
      ]
     },
     "execution_count": 24,
     "metadata": {},
     "output_type": "execute_result"
    },
    {
     "data": {
      "image/png": "[encoded data removed]",
      "text/plain": [
       "<Figure size 432x288 with 1 Axes>"
      ]
     },
     "metadata": {
      "needs_background": "light"
     },
     "output_type": "display_data"
    }
   ],
   "source": [
    "plt.plot(channel.d[t,:,100])"
   ]
  },
  {
   "cell_type": "code",
   "execution_count": null,
   "metadata": {},
   "outputs": [],
   "source": []
  }
 ],
 "metadata": {
  "kernelspec": {
   "display_name": "Python 3",
   "language": "python",
   "name": "python3"
  },
  "language_info": {
   "codemirror_mode": {
    "name": "ipython",
    "version": 3
   },
   "file_extension": ".py",
   "mimetype": "text/x-python",
   "name": "python",
   "nbconvert_exporter": "python",
   "pygments_lexer": "ipython3",
   "version": "3.8.1"
  }
 },
 "nbformat": 4,
 "nbformat_minor": 5
}
