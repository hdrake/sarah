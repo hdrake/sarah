{
 "cells": [
  {
   "cell_type": "code",
   "execution_count": 46,
   "metadata": {},
   "outputs": [],
   "source": [
    "import numpy as np\n",
    "import xarray as xr\n",
    "import dask.array as da\n",
    "import matplotlib\n",
    "import matplotlib.pyplot as plt\n",
    "from mpl_toolkits.mplot3d import Axes3D"
   ]
  },
  {
   "cell_type": "code",
   "execution_count": 3,
   "metadata": {},
   "outputs": [
    {
     "data": {
      "text/html": [
       "<pre>&lt;xarray.Dataset&gt;\n",
       "Dimensions:  (α: 400, β: 400, γ: 400)\n",
       "Coordinates:\n",
       "  * α        (α) float64 -2.75 -2.746 -2.742 -2.738 ... -1.212 -1.208 -1.204\n",
       "  * β        (β) float64 0.0 0.00525 0.0105 0.01575 ... 2.079 2.084 2.09 2.095\n",
       "  * γ        (γ) float64 0.0 0.0055 0.011 0.0165 ... 2.178 2.183 2.189 2.195\n",
       "Data variables:\n",
       "    match    (α, β, γ) float64 ...\n",
       "    Q        (α, β, γ) float64 ...\n",
       "    mode     (α, β, γ) float64 ...</pre>"
      ],
      "text/plain": [
       "<xarray.Dataset>\n",
       "Dimensions:  (α: 400, β: 400, γ: 400)\n",
       "Coordinates:\n",
       "  * α        (α) float64 -2.75 -2.746 -2.742 -2.738 ... -1.212 -1.208 -1.204\n",
       "  * β        (β) float64 0.0 0.00525 0.0105 0.01575 ... 2.079 2.084 2.09 2.095\n",
       "  * γ        (γ) float64 0.0 0.0055 0.011 0.0165 ... 2.178 2.183 2.189 2.195\n",
       "Data variables:\n",
       "    match    (α, β, γ) float64 ...\n",
       "    Q        (α, β, γ) float64 ...\n",
       "    mode     (α, β, γ) float64 ..."
      ]
     },
     "execution_count": 3,
     "metadata": {},
     "output_type": "execute_result"
    }
   ],
   "source": [
    "ds = xr.open_dataset(\"../data/critical_3d.nc\")\n",
    "ds"
   ]
  },
  {
   "cell_type": "code",
   "execution_count": 24,
   "metadata": {},
   "outputs": [],
   "source": [
    "modes = np.int64(np.unique(ds['mode'].values))"
   ]
  },
  {
   "cell_type": "code",
   "execution_count": 75,
   "metadata": {},
   "outputs": [
    {
     "data": {
      "text/html": [
       "<pre>&lt;xarray.Dataset&gt;\n",
       "Dimensions:  (mode: 18, α: 400, β: 400, γ: 400)\n",
       "Coordinates:\n",
       "  * α        (α) float64 -2.75 -2.746 -2.742 -2.738 ... -1.212 -1.208 -1.204\n",
       "  * β        (β) float64 0.0 0.00525 0.0105 0.01575 ... 2.079 2.084 2.09 2.095\n",
       "  * γ        (γ) float64 0.0 0.0055 0.011 0.0165 ... 2.178 2.183 2.189 2.195\n",
       "  * mode     (mode) int64 0 1 2 3 4 5 6 7 8 9 10 11 12 13 14 15 16 17\n",
       "Data variables:\n",
       "    match    (mode, α, β, γ) float64 dask.array&lt;chunksize=(1, 400, 400, 400), meta=np.ndarray&gt;\n",
       "    Q        (mode, α, β, γ) float64 dask.array&lt;chunksize=(1, 400, 400, 400), meta=np.ndarray&gt;</pre>"
      ],
      "text/plain": [
       "<xarray.Dataset>\n",
       "Dimensions:  (mode: 18, α: 400, β: 400, γ: 400)\n",
       "Coordinates:\n",
       "  * α        (α) float64 -2.75 -2.746 -2.742 -2.738 ... -1.212 -1.208 -1.204\n",
       "  * β        (β) float64 0.0 0.00525 0.0105 0.01575 ... 2.079 2.084 2.09 2.095\n",
       "  * γ        (γ) float64 0.0 0.0055 0.011 0.0165 ... 2.178 2.183 2.189 2.195\n",
       "  * mode     (mode) int64 0 1 2 3 4 5 6 7 8 9 10 11 12 13 14 15 16 17\n",
       "Data variables:\n",
       "    match    (mode, α, β, γ) float64 dask.array<chunksize=(1, 400, 400, 400), meta=np.ndarray>\n",
       "    Q        (mode, α, β, γ) float64 dask.array<chunksize=(1, 400, 400, 400), meta=np.ndarray>"
      ]
     },
     "execution_count": 75,
     "metadata": {},
     "output_type": "execute_result"
    }
   ],
   "source": [
    "modal = xr.Dataset(\n",
    "    coords=ds.coords\n",
    ")\n",
    "modal = modal.assign_coords({'mode': modes})\n",
    "\n",
    "modal['match'] = xr.DataArray(\n",
    "    da.zeros(tuple(modal.dims.values()), chunks=(1,) + tuple(modal.dims.values())[1:]),\n",
    "    coords=modal.coords,\n",
    "    dims=list(modal.dims.keys())\n",
    ")\n",
    "\n",
    "modal['Q'] = xr.DataArray(\n",
    "    da.zeros(tuple(modal.dims.values()), chunks=(1,) + tuple(modal.dims.values())[1:]),\n",
    "    coords=modal.coords,\n",
    "    dims=list(modal.dims.keys())\n",
    ")\n",
    "\n",
    "modal"
   ]
  },
  {
   "cell_type": "code",
   "execution_count": 76,
   "metadata": {},
   "outputs": [
    {
     "data": {
      "text/html": [
       "<pre>&lt;xarray.Dataset&gt;\n",
       "Dimensions:  (mode: 18, α: 400, β: 400, γ: 400)\n",
       "Coordinates:\n",
       "  * α        (α) float64 -2.75 -2.746 -2.742 -2.738 ... -1.212 -1.208 -1.204\n",
       "  * β        (β) float64 0.0 0.00525 0.0105 0.01575 ... 2.079 2.084 2.09 2.095\n",
       "  * γ        (γ) float64 0.0 0.0055 0.011 0.0165 ... 2.178 2.183 2.189 2.195\n",
       "  * mode     (mode) int64 0 1 2 3 4 5 6 7 8 9 10 11 12 13 14 15 16 17\n",
       "Data variables:\n",
       "    match    (mode, α, β, γ) float64 dask.array&lt;chunksize=(1, 400, 400, 400), meta=np.ndarray&gt;\n",
       "    Q        (mode, α, β, γ) float64 dask.array&lt;chunksize=(1, 400, 400, 400), meta=np.ndarray&gt;</pre>"
      ],
      "text/plain": [
       "<xarray.Dataset>\n",
       "Dimensions:  (mode: 18, α: 400, β: 400, γ: 400)\n",
       "Coordinates:\n",
       "  * α        (α) float64 -2.75 -2.746 -2.742 -2.738 ... -1.212 -1.208 -1.204\n",
       "  * β        (β) float64 0.0 0.00525 0.0105 0.01575 ... 2.079 2.084 2.09 2.095\n",
       "  * γ        (γ) float64 0.0 0.0055 0.011 0.0165 ... 2.178 2.183 2.189 2.195\n",
       "  * mode     (mode) int64 0 1 2 3 4 5 6 7 8 9 10 11 12 13 14 15 16 17\n",
       "Data variables:\n",
       "    match    (mode, α, β, γ) float64 dask.array<chunksize=(1, 400, 400, 400), meta=np.ndarray>\n",
       "    Q        (mode, α, β, γ) float64 dask.array<chunksize=(1, 400, 400, 400), meta=np.ndarray>"
      ]
     },
     "execution_count": 76,
     "metadata": {},
     "output_type": "execute_result"
    }
   ],
   "source": [
    "for mode in modes:\n",
    "    print(mode, end=', ')\n",
    "    modal['match'].sel(mode=mode).values = ds['match'].where(ds['mode'] == mode).values\n",
    "    modal['Q'].sel(mode=mode).values = ds['Q'].where(ds['mode'] == mode).values\n",
    "modal"
   ]
  },
  {
   "cell_type": "code",
   "execution_count": 88,
   "metadata": {},
   "outputs": [
    {
     "data": {
      "text/plain": [
       "<matplotlib.collections.QuadMesh at 0x7ff9300dcfd0>"
      ]
     },
     "execution_count": 88,
     "metadata": {},
     "output_type": "execute_result"
    },
    {
     "data": {
      "image/png": "[encoded data removed]",
      "text/plain": [
       "<Figure size 432x288 with 2 Axes>"
      ]
     },
     "metadata": {
      "needs_background": "light"
     },
     "output_type": "display_data"
    }
   ],
   "source": [
    "ds['match'].where(ds['mode'] == 1).sel(α=-1.6, method='nearest').plot()"
   ]
  },
  {
   "cell_type": "code",
   "execution_count": 74,
   "metadata": {},
   "outputs": [
    {
     "data": {
      "text/html": [
       "<pre>&lt;xarray.Dataset&gt;\n",
       "Dimensions:  (α: 400, β: 400, γ: 400)\n",
       "Coordinates:\n",
       "  * α        (α) float64 -2.75 -2.746 -2.742 -2.738 ... -1.212 -1.208 -1.204\n",
       "  * β        (β) float64 0.0 0.00525 0.0105 0.01575 ... 2.079 2.084 2.09 2.095\n",
       "  * γ        (γ) float64 0.0 0.0055 0.011 0.0165 ... 2.178 2.183 2.189 2.195\n",
       "Data variables:\n",
       "    match    (α, β, γ) float64 0.0 nan nan nan nan nan ... nan nan nan nan nan\n",
       "    Q        (α, β, γ) float64 0.0 nan nan nan nan nan ... nan nan nan nan nan\n",
       "    mode     (α, β, γ) float64 0.0 nan nan nan nan nan ... nan nan nan nan nan</pre>"
      ],
      "text/plain": [
       "<xarray.Dataset>\n",
       "Dimensions:  (α: 400, β: 400, γ: 400)\n",
       "Coordinates:\n",
       "  * α        (α) float64 -2.75 -2.746 -2.742 -2.738 ... -1.212 -1.208 -1.204\n",
       "  * β        (β) float64 0.0 0.00525 0.0105 0.01575 ... 2.079 2.084 2.09 2.095\n",
       "  * γ        (γ) float64 0.0 0.0055 0.011 0.0165 ... 2.178 2.183 2.189 2.195\n",
       "Data variables:\n",
       "    match    (α, β, γ) float64 0.0 nan nan nan nan nan ... nan nan nan nan nan\n",
       "    Q        (α, β, γ) float64 0.0 nan nan nan nan nan ... nan nan nan nan nan\n",
       "    mode     (α, β, γ) float64 0.0 nan nan nan nan nan ... nan nan nan nan nan"
      ]
     },
     "execution_count": 74,
     "metadata": {},
     "output_type": "execute_result"
    }
   ],
   "source": [
    "ds.where(ds['mode'] == mode)"
   ]
  },
  {
   "cell_type": "code",
   "execution_count": 19,
   "metadata": {},
   "outputs": [],
   "source": [
    "mode0 = ds.where(ds['mode'] == 0.)"
   ]
  },
  {
   "cell_type": "code",
   "execution_count": 80,
   "metadata": {},
   "outputs": [
    {
     "data": {
      "image/png": "[encoded data removed]",
      "text/plain": [
       "<Figure size 432x288 with 2 Axes>"
      ]
     },
     "metadata": {
      "needs_background": "light"
     },
     "output_type": "display_data"
    }
   ],
   "source": [
    "q = modal['match'].sel(mode=0, α=-2.010268982892298, method='nearest').plot()\n",
    "#q.set_clim([0.,2.])"
   ]
  },
  {
   "cell_type": "code",
   "execution_count": 82,
   "metadata": {},
   "outputs": [
    {
     "data": {
      "text/plain": [
       "array([[0., 0., 0., ..., 0., 0., 0.],\n",
       "       [0., 0., 0., ..., 0., 0., 0.],\n",
       "       [0., 0., 0., ..., 0., 0., 0.],\n",
       "       ...,\n",
       "       [0., 0., 0., ..., 0., 0., 0.],\n",
       "       [0., 0., 0., ..., 0., 0., 0.],\n",
       "       [0., 0., 0., ..., 0., 0., 0.]])"
      ]
     },
     "execution_count": 82,
     "metadata": {},
     "output_type": "execute_result"
    }
   ],
   "source": [
    "modal['match'].sel(mode=0, α=-2.010268982892298, method='nearest').values"
   ]
  },
  {
   "cell_type": "code",
   "execution_count": null,
   "metadata": {},
   "outputs": [],
   "source": []
  }
 ],
 "metadata": {
  "kernelspec": {
   "display_name": "Python 3",
   "language": "python",
   "name": "python3"
  },
  "language_info": {
   "codemirror_mode": {
    "name": "ipython",
    "version": 3
   },
   "file_extension": ".py",
   "mimetype": "text/x-python",
   "name": "python",
   "nbconvert_exporter": "python",
   "pygments_lexer": "ipython3",
   "version": "3.8.1"
  }
 },
 "nbformat": 4,
 "nbformat_minor": 4
}
