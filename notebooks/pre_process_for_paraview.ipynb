{
 "cells": [
  {
   "cell_type": "code",
   "execution_count": 4,
   "metadata": {},
   "outputs": [],
   "source": [
    "import numpy as np\n",
    "import xarray as xr\n",
    "import dask.array as da\n",
    "import matplotlib\n",
    "import matplotlib.pyplot as plt\n",
    "from mpl_toolkits.mplot3d import Axes3D"
   ]
  },
  {
   "cell_type": "code",
   "execution_count": 5,
   "metadata": {},
   "outputs": [
    {
     "data": {
      "text/html": [
       "<pre>&lt;xarray.Dataset&gt;\n",
       "Dimensions:  (α: 400, β: 400, γ: 400)\n",
       "Coordinates:\n",
       "  * α        (α) float64 -2.75 -2.746 -2.742 -2.738 ... -1.212 -1.208 -1.204\n",
       "  * β        (β) float64 0.0 0.00525 0.0105 0.01575 ... 2.079 2.084 2.09 2.095\n",
       "  * γ        (γ) float64 0.0 0.0055 0.011 0.0165 ... 2.178 2.183 2.189 2.195\n",
       "Data variables:\n",
       "    match    (α, β, γ) float64 ...\n",
       "    Q        (α, β, γ) float64 ...\n",
       "    mode     (α, β, γ) float64 0.0 1.0 1.0 1.0 1.0 1.0 ... 1.0 1.0 1.0 1.0 1.0</pre>"
      ],
      "text/plain": [
       "<xarray.Dataset>\n",
       "Dimensions:  (α: 400, β: 400, γ: 400)\n",
       "Coordinates:\n",
       "  * α        (α) float64 -2.75 -2.746 -2.742 -2.738 ... -1.212 -1.208 -1.204\n",
       "  * β        (β) float64 0.0 0.00525 0.0105 0.01575 ... 2.079 2.084 2.09 2.095\n",
       "  * γ        (γ) float64 0.0 0.0055 0.011 0.0165 ... 2.178 2.183 2.189 2.195\n",
       "Data variables:\n",
       "    match    (α, β, γ) float64 ...\n",
       "    Q        (α, β, γ) float64 ...\n",
       "    mode     (α, β, γ) float64 0.0 1.0 1.0 1.0 1.0 1.0 ... 1.0 1.0 1.0 1.0 1.0"
      ]
     },
     "execution_count": 5,
     "metadata": {},
     "output_type": "execute_result"
    }
   ],
   "source": [
    "ds = xr.open_dataset(\"../data/critical_3d.nc\")\n",
    "\n",
    "nmodes = 4\n",
    "modes = np.int64(np.unique(ds['mode'].values))[0:nmodes]\n",
    "\n",
    "ds"
   ]
  },
  {
   "cell_type": "code",
   "execution_count": 7,
   "metadata": {},
   "outputs": [
    {
     "name": "stdout",
     "output_type": "stream",
     "text": [
      "0, 1, 2, 3, "
     ]
    }
   ],
   "source": [
    "tol = 0.25\n",
    "mode_list = []\n",
    "\n",
    "for mode in modes:\n",
    "    print(mode, end=\", \")\n",
    "    mode_list.append(ds['match'].where((ds['mode'] == mode) & (np.abs(ds['match'] - 1.) < tol)))\n",
    "    \n",
    "modal = xr.concat(mode_list, dim='mode')\n",
    "modal = modal.assign_coords({'mode': modes})"
   ]
  },
  {
   "cell_type": "code",
   "execution_count": 12,
   "metadata": {},
   "outputs": [
    {
     "data": {
      "text/plain": [
       "<matplotlib.collections.QuadMesh at 0x7ff9301c2c70>"
      ]
     },
     "execution_count": 12,
     "metadata": {},
     "output_type": "execute_result"
    },
    {
     "data": {
      "image/png": "[encoded data removed]",
      "text/plain": [
       "<Figure size 432x288 with 2 Axes>"
      ]
     },
     "metadata": {
      "needs_background": "light"
     },
     "output_type": "display_data"
    }
   ],
   "source": [
    "modal.sel(mode=0).sel(α=-2., method='nearest').plot()"
   ]
  },
  {
   "cell_type": "code",
   "execution_count": null,
   "metadata": {},
   "outputs": [],
   "source": []
  }
 ],
 "metadata": {
  "kernelspec": {
   "display_name": "Python 3",
   "language": "python",
   "name": "python3"
  },
  "language_info": {
   "codemirror_mode": {
    "name": "ipython",
    "version": 3
   },
   "file_extension": ".py",
   "mimetype": "text/x-python",
   "name": "python",
   "nbconvert_exporter": "python",
   "pygments_lexer": "ipython3",
   "version": "3.8.1"
  }
 },
 "nbformat": 4,
 "nbformat_minor": 4
}
