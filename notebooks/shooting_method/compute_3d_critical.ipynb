{
 "cells": [
  {
   "cell_type": "markdown",
   "metadata": {},
   "source": [
    "### Shooting method implementation for evaluating whether sections are hydraulically controlled"
   ]
  },
  {
   "cell_type": "code",
   "execution_count": 19,
   "metadata": {},
   "outputs": [],
   "source": [
    "import numpy as np\n",
    "import matplotlib.pyplot as plt\n",
    "import xarray as xr\n",
    "\n",
    "from utilities import *\n",
    "\n",
    "save_perturbations = False"
   ]
  },
  {
   "cell_type": "markdown",
   "metadata": {},
   "source": [
    "#### External parameters and functions"
   ]
  },
  {
   "cell_type": "code",
   "execution_count": 15,
   "metadata": {},
   "outputs": [],
   "source": [
    "def f(ϕ): return 2. * (2*np.pi)/(60.**2 * 24.) * np.sin(np.deg2rad(ϕ))\n",
    "\n",
    "δρ = 0.45\n",
    "ρ0 = 1028.\n",
    "g = 9.81\n",
    "gp = (δρ/ρ0)*g\n",
    "\n",
    "ϕ = 62. # Latitude of Faroe Bank channel\n",
    "f0 = f(ϕ)\n",
    "αsill = 5.8e-6 # from Borenas and Lundberg (1988)\n",
    "r = round(f0**2 / (gp*αsill), 2)"
   ]
  },
  {
   "cell_type": "markdown",
   "metadata": {},
   "source": [
    "#### Define range for parameter sweep"
   ]
  },
  {
   "cell_type": "code",
   "execution_count": 4,
   "metadata": {},
   "outputs": [],
   "source": [
    "nα = 400\n",
    "nβ = 400\n",
    "nγ = 400\n",
    "\n",
    "αlim = [-2.75, -1.2]\n",
    "dα = np.diff(αlim)/nα\n",
    "αvec = np.arange(αlim[0],αlim[1],dα)\n",
    "\n",
    "βlim = [0., 2.1]\n",
    "dβ = np.diff(βlim)/nβ\n",
    "βvec = np.arange(βlim[0],βlim[1],dβ)\n",
    "\n",
    "γlim = [0., 2.2]\n",
    "dγ = np.diff(γlim)/nγ\n",
    "γvec = np.arange(γlim[0],γlim[1],dγ)\n",
    "\n",
    "nx = 200\n",
    "x_idx = np.arange(0, nx, 1)\n",
    "\n",
    "βarr, αarr, γarr = np.meshgrid(βvec, αvec, γvec) # for some reason this is the correct order\n",
    "\n",
    "match = np.zeros_like(βarr)\n",
    "Q = np.zeros_like(βarr)\n",
    "mode = np.zeros_like(βarr)\n",
    "\n",
    "if save_perturbations:\n",
    "    xarr = np.zeros((nα, nβ, nγ, nx))\n",
    "    xp = np.zeros((nα, nβ, nγ, nx))\n",
    "    zp = np.zeros((nα, nβ, nγ, nx))"
   ]
  },
  {
   "cell_type": "code",
   "execution_count": 18,
   "metadata": {},
   "outputs": [
    {
     "ename": "NameError",
     "evalue": "name 'fbc' is not defined",
     "output_type": "error",
     "traceback": [
      "\u001b[0;31m---------------------------------------------------------------------------\u001b[0m",
      "\u001b[0;31mNameError\u001b[0m                                 Traceback (most recent call last)",
      "\u001b[0;32m/var/folders/_7/54nm1vyx6gg9l5f555w0c1tc0000gn/T/ipykernel_68517/3105495242.py\u001b[0m in \u001b[0;36m<module>\u001b[0;34m\u001b[0m\n\u001b[0;32m----> 1\u001b[0;31m \u001b[0mfbc\u001b[0m\u001b[0;34m\u001b[0m\u001b[0;34m\u001b[0m\u001b[0m\n\u001b[0m",
      "\u001b[0;31mNameError\u001b[0m: name 'fbc' is not defined"
     ]
    }
   ],
   "source": []
  },
  {
   "cell_type": "markdown",
   "metadata": {},
   "source": [
    "#### Run shooting method across parameters"
   ]
  },
  {
   "cell_type": "code",
   "execution_count": 17,
   "metadata": {},
   "outputs": [
    {
     "ename": "NameError",
     "evalue": "name 'γvec' is not defined",
     "output_type": "error",
     "traceback": [
      "\u001b[0;31m---------------------------------------------------------------------------\u001b[0m",
      "\u001b[0;31mNameError\u001b[0m                                 Traceback (most recent call last)",
      "\u001b[0;32m/var/folders/_7/54nm1vyx6gg9l5f555w0c1tc0000gn/T/ipykernel_68517/902345092.py\u001b[0m in \u001b[0;36m<module>\u001b[0;34m\u001b[0m\n\u001b[0;32m----> 1\u001b[0;31m \u001b[0;32mfor\u001b[0m \u001b[0mkk\u001b[0m\u001b[0;34m,\u001b[0m \u001b[0mγ\u001b[0m \u001b[0;32min\u001b[0m \u001b[0menumerate\u001b[0m\u001b[0;34m(\u001b[0m\u001b[0mγvec\u001b[0m\u001b[0;34m)\u001b[0m\u001b[0;34m:\u001b[0m\u001b[0;34m\u001b[0m\u001b[0;34m\u001b[0m\u001b[0m\n\u001b[0m\u001b[1;32m      2\u001b[0m     \u001b[0mprint\u001b[0m\u001b[0;34m(\u001b[0m\u001b[0mkk\u001b[0m\u001b[0;34m,\u001b[0m \u001b[0mend\u001b[0m\u001b[0;34m=\u001b[0m\u001b[0;34m', '\u001b[0m\u001b[0;34m)\u001b[0m\u001b[0;34m\u001b[0m\u001b[0;34m\u001b[0m\u001b[0m\n\u001b[1;32m      3\u001b[0m     \u001b[0;32mfor\u001b[0m \u001b[0mjj\u001b[0m\u001b[0;34m,\u001b[0m \u001b[0mβ\u001b[0m \u001b[0;32min\u001b[0m \u001b[0menumerate\u001b[0m\u001b[0;34m(\u001b[0m\u001b[0mβvec\u001b[0m\u001b[0;34m)\u001b[0m\u001b[0;34m:\u001b[0m\u001b[0;34m\u001b[0m\u001b[0;34m\u001b[0m\u001b[0m\n\u001b[1;32m      4\u001b[0m         \u001b[0;32mfor\u001b[0m \u001b[0mii\u001b[0m\u001b[0;34m,\u001b[0m \u001b[0mα\u001b[0m \u001b[0;32min\u001b[0m \u001b[0menumerate\u001b[0m\u001b[0;34m(\u001b[0m\u001b[0mαvec\u001b[0m\u001b[0;34m)\u001b[0m\u001b[0;34m:\u001b[0m\u001b[0;34m\u001b[0m\u001b[0;34m\u001b[0m\u001b[0m\n\u001b[1;32m      5\u001b[0m \u001b[0;34m\u001b[0m\u001b[0m\n",
      "\u001b[0;31mNameError\u001b[0m: name 'γvec' is not defined"
     ]
    }
   ],
   "source": [
    "for kk, γ in enumerate(γvec):\n",
    "    print(kk, end=', ')\n",
    "    for jj, β in enumerate(βvec):\n",
    "        for ii, α in enumerate(αvec):\n",
    "            \n",
    "            outputs = shoot_perturbations(α, β, γ, fbc['rsill'], nx)\n",
    "\n",
    "            if outputs is None:\n",
    "                pass\n",
    "\n",
    "            else:\n",
    "                match[ii,jj,kk] = outputs['match']\n",
    "                Q[ii,jj,kk] = outputs['Q']\n",
    "                mode[ii,jj,kk] = outputs['mode']\n",
    "\n",
    "                if save_perturbations:\n",
    "                    xp[ii,jj,kk,:] = outputs['xp']\n",
    "                    zp[ii,jj,kk,:] = outputs['zp']\n",
    "                    xarr[ii,jj,kk,:] = outputs['x']"
   ]
  },
  {
   "cell_type": "code",
   "execution_count": 6,
   "metadata": {},
   "outputs": [],
   "source": [
    "ds = xr.Dataset()\n",
    "ds['α'] = xr.DataArray(αvec, coords=[αvec], dims=['α'])\n",
    "ds['β'] = xr.DataArray(βvec, coords=[βvec], dims=['β'])\n",
    "ds['γ'] = xr.DataArray(γvec, coords=[γvec], dims=['γ'])\n",
    "ds['match'] = xr.DataArray(match, coords=[αvec, βvec, γvec], dims=['α', 'β', 'γ'], name='match')\n",
    "ds['Q'] = xr.DataArray(Q, coords=[αvec, βvec, γvec], dims=['α', 'β', 'γ'], name='Q')\n",
    "ds['mode'] = xr.DataArray(mode, coords=[αvec, βvec, γvec], dims=['α', 'β', 'γ'], name='mode')\n",
    "\n",
    "if save_perturbations:\n",
    "    ds['x'] = xr.DataArray(xarr, coords=[αvec, βvec, γvec, x_idx], dims=['α', 'β', 'γ', 'x_idx'], name='x')\n",
    "    ds['d'] = calc_d(ds['x'], ds['α'], ds['β'], ds['γ'])\n",
    "    ds['xp'] = xr.DataArray(xp, coords=[αvec, βvec, γvec, x_idx], dims=['α', 'β', 'γ', 'x_idx'], name='xp')\n",
    "    ds['zp'] = xr.DataArray(zp, coords=[αvec, βvec, γvec, x_idx], dims=['α', 'β', 'γ', 'x_idx'], name='zp')\n",
    "\n",
    "ds.to_netcdf('../../data/critical_3d.nc')"
   ]
  },
  {
   "cell_type": "code",
   "execution_count": null,
   "metadata": {},
   "outputs": [],
   "source": []
  }
 ],
 "metadata": {
  "kernelspec": {
   "display_name": "Python 3 (ipykernel)",
   "language": "python",
   "name": "python3"
  },
  "language_info": {
   "codemirror_mode": {
    "name": "ipython",
    "version": 3
   },
   "file_extension": ".py",
   "mimetype": "text/x-python",
   "name": "python",
   "nbconvert_exporter": "python",
   "pygments_lexer": "ipython3",
   "version": "3.10.0"
  }
 },
 "nbformat": 4,
 "nbformat_minor": 4
}
