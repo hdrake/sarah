{
 "cells": [
  {
   "cell_type": "markdown",
   "metadata": {},
   "source": [
    "### Shooting method implementation for evaluating whether sections are hydraulically controlled"
   ]
  },
  {
   "cell_type": "code",
<<<<<<< HEAD
   "execution_count": 5,
=======
   "execution_count": 1,
>>>>>>> e1e0f6982ed2bd1ac44bf26528a286d287af2d51
   "metadata": {},
   "outputs": [],
   "source": [
    "import numpy as np\n",
    "import matplotlib.pyplot as plt\n",
    "import xarray as xr\n",
    "\n",
    "from utilities import *\n",
    "\n",
    "save_perturbations = False"
   ]
  },
  {
   "cell_type": "markdown",
   "metadata": {},
   "source": [
    "#### External parameters and functions"
   ]
  },
  {
   "cell_type": "code",
<<<<<<< HEAD
   "execution_count": 6,
=======
   "execution_count": 2,
>>>>>>> e1e0f6982ed2bd1ac44bf26528a286d287af2d51
   "metadata": {},
   "outputs": [],
   "source": [
    "def f(ϕ): return 2. * (2*np.pi)/(60.**2 * 24.) * np.sin(np.deg2rad(ϕ))\n",
    "\n",
    "δρ = 0.45\n",
    "ρ0 = 1028.\n",
    "g = 9.81\n",
    "gp = (δρ/ρ0)*g\n",
    "\n",
    "ϕ = 62. # Latitude of Faroe Bank channel\n",
    "f0 = f(ϕ)\n",
    "αsill = 5.8e-6 # from Borenas and Lundberg (1988)\n",
    "r = f0**2 / (gp*αsill)"
   ]
  },
  {
<<<<<<< HEAD
=======
   "cell_type": "code",
   "execution_count": 4,
   "metadata": {},
   "outputs": [
    {
     "data": {
      "text/plain": [
       "-2.010268982892298"
      ]
     },
     "execution_count": 4,
     "metadata": {},
     "output_type": "execute_result"
    }
   ],
   "source": [
    "α = -0.5*(1+2/r)\n",
    "α"
   ]
  },
  {
>>>>>>> e1e0f6982ed2bd1ac44bf26528a286d287af2d51
   "cell_type": "markdown",
   "metadata": {},
   "source": [
    "#### Define range for parameter sweep"
   ]
  },
  {
   "cell_type": "code",
   "execution_count": 7,
   "metadata": {},
   "outputs": [],
   "source": [
    "nβ = 5000\n",
    "nγ = 5000\n",
    "\n",
<<<<<<< HEAD
    "α = -0.5*(1+2/r)\n",
    "\n",
=======
>>>>>>> e1e0f6982ed2bd1ac44bf26528a286d287af2d51
    "βlim = [0., 2.]\n",
    "dβ = np.diff(βlim)/nβ\n",
    "βvec = np.arange(βlim[0],βlim[1],dβ)\n",
    "\n",
    "γlim = [0., 2.]\n",
    "dγ = np.diff(γlim)/nγ\n",
    "γvec = np.arange(γlim[0],γlim[1],dγ)\n",
    "\n",
    "nx = 200\n",
    "x_idx = np.arange(0, nx, 1)\n",
    "\n",
    "γarr, βarr = np.meshgrid(γvec, βvec)\n",
    "match = np.zeros_like(βarr)\n",
    "Q = np.zeros_like(βarr)\n",
    "mode = np.zeros_like(βarr)\n",
    "\n",
    "if save_perturbations:\n",
    "    xarr = np.zeros((nβ, nγ, nx))\n",
    "    xp = np.zeros((nβ, nγ, nx))\n",
    "    zp = np.zeros((nβ, nγ, nx))"
   ]
  },
  {
   "cell_type": "markdown",
   "metadata": {},
   "source": [
    "#### Run shooting method across parameters"
   ]
  },
  {
   "cell_type": "code",
   "execution_count": 8,
   "metadata": {},
   "outputs": [
    {
     "name": "stdout",
     "output_type": "stream",
     "text": [
      "0, 1, 2, 3, 4, 5, 6, 7, 8, 9, 10, 11, 12, 13, 14, 15, 16, 17, 18, 19, 20, 21, 22, 23, 24, 25, 26, 27, 28, 29, "
     ]
    }
   ],
   "source": [
    "for jj, γ in enumerate(γvec):\n",
    "    print(jj, end=', ')\n",
    "    for ii, β in enumerate(βvec):\n",
    "                \n",
    "        outputs = shoot_perturbations(α, β, γ, r, nx)\n",
    "        \n",
    "        if outputs is None:\n",
    "            pass\n",
    "        \n",
    "        else:\n",
    "            match[ii,jj] = outputs['match']\n",
    "            Q[ii,jj] = outputs['Q']\n",
    "            mode[ii,jj] = outputs['mode']\n",
    "            \n",
    "            if save_perturbations:\n",
    "                xp[ii,jj,:] = outputs['xp']\n",
    "                zp[ii,jj,:] = outputs['zp']\n",
    "                xarr[ii,jj,:] = outputs['x']"
   ]
  },
  {
   "cell_type": "code",
   "execution_count": 9,
   "metadata": {},
   "outputs": [],
   "source": [
    "ds = xr.Dataset()\n",
    "ds['β'] = xr.DataArray(βvec, coords=[βvec], dims=['β'])\n",
    "ds['γ'] = xr.DataArray(γvec, coords=[γvec], dims=['γ'])\n",
    "ds['match'] = xr.DataArray(match, coords=[βvec, γvec], dims=['β', 'γ'], name='match')\n",
    "ds['Q'] = xr.DataArray(Q, coords=[βvec, γvec], dims=['β', 'γ'], name='Q')\n",
    "ds['mode'] = xr.DataArray(mode, coords=[βvec, γvec], dims=['β', 'γ'], name='mode')\n",
    "\n",
    "if save_perturbations:\n",
    "    ds['x'] = xr.DataArray(xarr, coords=[βvec, γvec, x_idx], dims=['β', 'γ', 'x_idx'], name='x')\n",
    "    ds['d'] = calc_d(ds['x'], α, ds['β'], ds['γ'])\n",
    "    ds['xp'] = xr.DataArray(xp, coords=[βvec, γvec, x_idx], dims=['β', 'γ', 'x_idx'], name='xp')\n",
    "    ds['zp'] = xr.DataArray(zp, coords=[βvec, γvec, x_idx], dims=['β', 'γ', 'x_idx'], name='zp')\n",
    "\n",
    "ds.to_netcdf('../../data/critical_2d.nc')"
   ]
  },
  {
   "cell_type": "code",
   "execution_count": null,
   "metadata": {},
   "outputs": [],
   "source": []
  }
 ],
 "metadata": {
  "kernelspec": {
   "display_name": "Python 3",
   "language": "python",
   "name": "python3"
  },
  "language_info": {
   "codemirror_mode": {
    "name": "ipython",
    "version": 3
   },
   "file_extension": ".py",
   "mimetype": "text/x-python",
   "name": "python",
   "nbconvert_exporter": "python",
   "pygments_lexer": "ipython3",
   "version": "3.8.1"
  }
 },
 "nbformat": 4,
 "nbformat_minor": 4
}
