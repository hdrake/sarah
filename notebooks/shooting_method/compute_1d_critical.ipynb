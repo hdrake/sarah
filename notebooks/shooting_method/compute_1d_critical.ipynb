{
 "cells": [
  {
   "cell_type": "markdown",
   "metadata": {},
   "source": [
    "### Shooting method implementation for evaluating whether sections are hydraulically controlled"
   ]
  },
  {
   "cell_type": "code",
   "execution_count": 1,
   "metadata": {},
   "outputs": [],
   "source": [
    "import numpy as np\n",
    "import matplotlib.pyplot as plt\n",
    "import xarray as xr\n",
    "\n",
    "from utilities import *\n",
    "\n",
    "save_perturbations = False"
   ]
  },
  {
   "cell_type": "markdown",
   "metadata": {},
   "source": [
    "#### External parameters and functions"
   ]
  },
  {
   "cell_type": "code",
   "execution_count": 2,
   "metadata": {},
   "outputs": [],
   "source": [
    "def f(ϕ): return 2. * (2*np.pi)/(60.**2 * 24.) * np.sin(np.deg2rad(ϕ))\n",
    "\n",
    "δρ = 0.45\n",
    "ρ0 = 1028.\n",
    "g = 9.81\n",
    "gp = (δρ/ρ0)*g\n",
    "\n",
    "ϕ = 62. # Latitude of Faroe Bank channel\n",
    "f0 = f(ϕ)\n",
    "αsill = 5.8e-6 # from Borenas and Lundberg (1988)\n",
    "r = f0**2 / (gp*αsill)"
   ]
  },
  {
   "cell_type": "markdown",
   "metadata": {},
   "source": [
    "#### Define range for parameter sweep"
   ]
  },
  {
   "cell_type": "code",
   "execution_count": 15,
   "metadata": {},
   "outputs": [],
   "source": [
    "nβ = np.int64(2e7)\n",
    "\n",
    "α = -1.64\n",
    "γ = 1.0\n",
    "\n",
    "βlim = [0., 2.]\n",
    "dβ = np.diff(βlim)/nβ\n",
    "βvec = np.arange(βlim[0],βlim[1],dβ)\n",
    "\n",
    "nx = 200\n",
    "x_idx = np.arange(0, nx, 1)\n",
    "\n",
    "match = np.zeros_like(βvec)\n",
    "Q = np.zeros_like(βvec)\n",
    "mode = np.zeros_like(βvec)\n",
    "\n",
    "if save_perturbations:\n",
    "    xarr = np.zeros((nβ, nx))\n",
    "    xp = np.zeros((nβ, nx))\n",
    "    zp = np.zeros((nβ, nx))"
   ]
  },
  {
   "cell_type": "markdown",
   "metadata": {},
   "source": [
    "#### Run shooting method across parameters"
   ]
  },
  {
   "cell_type": "code",
   "execution_count": 7,
   "metadata": {},
   "outputs": [],
   "source": [
    "for ii, β in enumerate(βvec):\n",
    "    outputs = shoot_perturbations(α, β, γ, r, nx)\n",
    "\n",
    "    if outputs is None:\n",
    "        pass\n",
    "\n",
    "    else:\n",
    "        match[ii] = outputs['match']\n",
    "        Q[ii] = outputs['Q']\n",
    "        mode[ii] = outputs['mode']\n",
    "\n",
    "        if save_perturbations:\n",
    "            xp[ii,:] = outputs['xp']\n",
    "            zp[ii,:] = outputs['zp']\n",
    "            xarr[ii,:] = outputs['x']"
   ]
  },
  {
   "cell_type": "code",
   "execution_count": 8,
   "metadata": {},
   "outputs": [],
   "source": [
    "ds = xr.Dataset()\n",
    "ds['β'] = xr.DataArray(βvec, coords=[βvec], dims=['β'])\n",
    "ds['match'] = xr.DataArray(match, coords=[βvec], dims=['β'], name='match')\n",
    "ds['Q'] = xr.DataArray(Q, coords=[βvec], dims=['β'], name='Q')\n",
    "ds['mode'] = xr.DataArray(mode, coords=[βvec], dims=['β'], name='mode')\n",
    "\n",
    "if save_perturbations:\n",
    "    ds['x'] = xr.DataArray(xarr, coords=[βvec, x_idx], dims=['β', 'x_idx'], name='x')\n",
    "    ds['d'] = calc_d(ds['x'], α, ds['β'], γ)\n",
    "    ds['xp'] = xr.DataArray(xp, coords=[βvec, x_idx], dims=['β', 'x_idx'], name='xp')\n",
    "    ds['zp'] = xr.DataArray(zp, coords=[βvec, x_idx], dims=['β', 'x_idx'], name='zp')\n",
    "\n",
    "ds.to_netcdf('../../data/critical_1d.nc')"
   ]
  }
 ],
 "metadata": {
  "kernelspec": {
   "display_name": "Python 3",
   "language": "python",
   "name": "python3"
  },
  "language_info": {
   "codemirror_mode": {
    "name": "ipython",
    "version": 3
   },
   "file_extension": ".py",
   "mimetype": "text/x-python",
   "name": "python",
   "nbconvert_exporter": "python",
   "pygments_lexer": "ipython3",
   "version": "3.8.1"
  }
 },
 "nbformat": 4,
 "nbformat_minor": 4
}
